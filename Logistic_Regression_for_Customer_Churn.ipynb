{
 "cells": [
  {
   "cell_type": "markdown",
   "id": "b90047d4-1e90-46d1-84ca-7245e1639824",
   "metadata": {},
   "source": [
    "# Logistic Regression for Customer Churn\n",
    "\n",
    "## Objective\n",
    "Implement logistic regression to predict customer churn for a telecom company.\n",
    "\n",
    "## Steps\n",
    "1. Load Dataset.\n",
    "2. Understand Information\n",
    "3. Data Preprocessing\n",
    "4. Model Fitting\n",
    "5. Prediction and Evaluation\n",
    "6. Plot the ROC Curve\n",
    "7. Discussion"
   ]
  },
  {
   "cell_type": "markdown",
   "id": "d6113d1f-20dd-4907-aa20-3452f868c710",
   "metadata": {},
   "source": [
    "## Setup Environment"
   ]
  },
  {
   "cell_type": "code",
   "execution_count": 15,
   "id": "0700f701-d786-4138-af79-b633700fdef1",
   "metadata": {},
   "outputs": [],
   "source": [
    "import pandas as pd\n",
    "import seaborn as sns\n",
    "import matplotlib.pyplot as plt"
   ]
  },
  {
   "cell_type": "markdown",
   "id": "d16b8360-211c-4447-a023-aafc2aa27b33",
   "metadata": {},
   "source": [
    "## 1. Load Data Set\n",
    "\n",
    "We begin by loading the customer churn dataset."
   ]
  },
  {
   "cell_type": "code",
   "execution_count": 12,
   "id": "aae8e89a-1ceb-40b6-93a6-23c357e280c0",
   "metadata": {},
   "outputs": [
    {
     "data": {
      "text/html": [
       "<div>\n",
       "<style scoped>\n",
       "    .dataframe tbody tr th:only-of-type {\n",
       "        vertical-align: middle;\n",
       "    }\n",
       "\n",
       "    .dataframe tbody tr th {\n",
       "        vertical-align: top;\n",
       "    }\n",
       "\n",
       "    .dataframe thead th {\n",
       "        text-align: right;\n",
       "    }\n",
       "</style>\n",
       "<table border=\"1\" class=\"dataframe\">\n",
       "  <thead>\n",
       "    <tr style=\"text-align: right;\">\n",
       "      <th></th>\n",
       "      <th>Customer ID</th>\n",
       "      <th>Referred a Friend</th>\n",
       "      <th>Number of Referrals</th>\n",
       "      <th>Tenure in Months</th>\n",
       "      <th>Offer</th>\n",
       "      <th>Phone Service</th>\n",
       "      <th>Avg Monthly Long Distance Charges</th>\n",
       "      <th>Multiple Lines</th>\n",
       "      <th>Internet Service</th>\n",
       "      <th>Internet Type</th>\n",
       "      <th>...</th>\n",
       "      <th>Latitude</th>\n",
       "      <th>Longitude</th>\n",
       "      <th>Population</th>\n",
       "      <th>Churn Value</th>\n",
       "      <th>CLTV</th>\n",
       "      <th>Churn Category</th>\n",
       "      <th>Churn Reason</th>\n",
       "      <th>Total Customer Svc Requests</th>\n",
       "      <th>Product/Service Issues Reported</th>\n",
       "      <th>Customer Satisfaction</th>\n",
       "    </tr>\n",
       "  </thead>\n",
       "  <tbody>\n",
       "    <tr>\n",
       "      <th>0</th>\n",
       "      <td>8779-QRDMV</td>\n",
       "      <td>No</td>\n",
       "      <td>0</td>\n",
       "      <td>1</td>\n",
       "      <td>NaN</td>\n",
       "      <td>No</td>\n",
       "      <td>0.00</td>\n",
       "      <td>No</td>\n",
       "      <td>Yes</td>\n",
       "      <td>Fiber Optic</td>\n",
       "      <td>...</td>\n",
       "      <td>34.023810</td>\n",
       "      <td>-118.156582</td>\n",
       "      <td>68701</td>\n",
       "      <td>1</td>\n",
       "      <td>5433</td>\n",
       "      <td>Competitor</td>\n",
       "      <td>Competitor offered more data</td>\n",
       "      <td>5</td>\n",
       "      <td>0</td>\n",
       "      <td>NaN</td>\n",
       "    </tr>\n",
       "    <tr>\n",
       "      <th>1</th>\n",
       "      <td>7495-OOKFY</td>\n",
       "      <td>Yes</td>\n",
       "      <td>1</td>\n",
       "      <td>8</td>\n",
       "      <td>Offer E</td>\n",
       "      <td>Yes</td>\n",
       "      <td>48.85</td>\n",
       "      <td>Yes</td>\n",
       "      <td>Yes</td>\n",
       "      <td>Cable</td>\n",
       "      <td>...</td>\n",
       "      <td>34.044271</td>\n",
       "      <td>-118.185237</td>\n",
       "      <td>55668</td>\n",
       "      <td>1</td>\n",
       "      <td>5302</td>\n",
       "      <td>Competitor</td>\n",
       "      <td>Competitor made better offer</td>\n",
       "      <td>5</td>\n",
       "      <td>0</td>\n",
       "      <td>NaN</td>\n",
       "    </tr>\n",
       "    <tr>\n",
       "      <th>2</th>\n",
       "      <td>1658-BYGOY</td>\n",
       "      <td>No</td>\n",
       "      <td>0</td>\n",
       "      <td>18</td>\n",
       "      <td>Offer D</td>\n",
       "      <td>Yes</td>\n",
       "      <td>11.33</td>\n",
       "      <td>Yes</td>\n",
       "      <td>Yes</td>\n",
       "      <td>Fiber Optic</td>\n",
       "      <td>...</td>\n",
       "      <td>34.108833</td>\n",
       "      <td>-118.229715</td>\n",
       "      <td>47534</td>\n",
       "      <td>1</td>\n",
       "      <td>3179</td>\n",
       "      <td>Competitor</td>\n",
       "      <td>Competitor made better offer</td>\n",
       "      <td>1</td>\n",
       "      <td>0</td>\n",
       "      <td>NaN</td>\n",
       "    </tr>\n",
       "    <tr>\n",
       "      <th>3</th>\n",
       "      <td>4598-XLKNJ</td>\n",
       "      <td>Yes</td>\n",
       "      <td>1</td>\n",
       "      <td>25</td>\n",
       "      <td>Offer C</td>\n",
       "      <td>Yes</td>\n",
       "      <td>19.76</td>\n",
       "      <td>No</td>\n",
       "      <td>Yes</td>\n",
       "      <td>Fiber Optic</td>\n",
       "      <td>...</td>\n",
       "      <td>33.936291</td>\n",
       "      <td>-118.332639</td>\n",
       "      <td>27778</td>\n",
       "      <td>1</td>\n",
       "      <td>5337</td>\n",
       "      <td>Dissatisfaction</td>\n",
       "      <td>Limited range of services</td>\n",
       "      <td>1</td>\n",
       "      <td>1</td>\n",
       "      <td>2.0</td>\n",
       "    </tr>\n",
       "    <tr>\n",
       "      <th>4</th>\n",
       "      <td>4846-WHAFZ</td>\n",
       "      <td>Yes</td>\n",
       "      <td>1</td>\n",
       "      <td>37</td>\n",
       "      <td>Offer C</td>\n",
       "      <td>Yes</td>\n",
       "      <td>6.33</td>\n",
       "      <td>Yes</td>\n",
       "      <td>Yes</td>\n",
       "      <td>Cable</td>\n",
       "      <td>...</td>\n",
       "      <td>33.972119</td>\n",
       "      <td>-118.020188</td>\n",
       "      <td>26265</td>\n",
       "      <td>1</td>\n",
       "      <td>2793</td>\n",
       "      <td>Price</td>\n",
       "      <td>Extra data charges</td>\n",
       "      <td>1</td>\n",
       "      <td>0</td>\n",
       "      <td>2.0</td>\n",
       "    </tr>\n",
       "  </tbody>\n",
       "</table>\n",
       "<p>5 rows × 46 columns</p>\n",
       "</div>"
      ],
      "text/plain": [
       "  Customer ID Referred a Friend  Number of Referrals  Tenure in Months  \\\n",
       "0  8779-QRDMV                No                    0                 1   \n",
       "1  7495-OOKFY               Yes                    1                 8   \n",
       "2  1658-BYGOY                No                    0                18   \n",
       "3  4598-XLKNJ               Yes                    1                25   \n",
       "4  4846-WHAFZ               Yes                    1                37   \n",
       "\n",
       "     Offer Phone Service  Avg Monthly Long Distance Charges Multiple Lines  \\\n",
       "0      NaN            No                               0.00             No   \n",
       "1  Offer E           Yes                              48.85            Yes   \n",
       "2  Offer D           Yes                              11.33            Yes   \n",
       "3  Offer C           Yes                              19.76             No   \n",
       "4  Offer C           Yes                               6.33            Yes   \n",
       "\n",
       "  Internet Service Internet Type  ...   Latitude   Longitude Population  \\\n",
       "0              Yes   Fiber Optic  ...  34.023810 -118.156582      68701   \n",
       "1              Yes         Cable  ...  34.044271 -118.185237      55668   \n",
       "2              Yes   Fiber Optic  ...  34.108833 -118.229715      47534   \n",
       "3              Yes   Fiber Optic  ...  33.936291 -118.332639      27778   \n",
       "4              Yes         Cable  ...  33.972119 -118.020188      26265   \n",
       "\n",
       "  Churn Value  CLTV   Churn Category                  Churn Reason  \\\n",
       "0           1  5433       Competitor  Competitor offered more data   \n",
       "1           1  5302       Competitor  Competitor made better offer   \n",
       "2           1  3179       Competitor  Competitor made better offer   \n",
       "3           1  5337  Dissatisfaction     Limited range of services   \n",
       "4           1  2793            Price            Extra data charges   \n",
       "\n",
       "  Total Customer Svc Requests Product/Service Issues Reported  \\\n",
       "0                           5                               0   \n",
       "1                           5                               0   \n",
       "2                           1                               0   \n",
       "3                           1                               1   \n",
       "4                           1                               0   \n",
       "\n",
       "  Customer Satisfaction  \n",
       "0                   NaN  \n",
       "1                   NaN  \n",
       "2                   NaN  \n",
       "3                   2.0  \n",
       "4                   2.0  \n",
       "\n",
       "[5 rows x 46 columns]"
      ]
     },
     "execution_count": 12,
     "metadata": {},
     "output_type": "execute_result"
    }
   ],
   "source": [
    "csv_file = 'telco_churn_data.csv'\n",
    "\n",
    "data = pd.read_csv(csv_file)\n",
    "data.head()"
   ]
  },
  {
   "cell_type": "markdown",
   "id": "da00b4f1-d285-4649-bf6c-edb6188e17a2",
   "metadata": {},
   "source": [
    "## 2. Understand Information\n",
    "\n",
    "\r\n",
    "We will perforexploratory data analysisDA to understand the factors influencing customer churn."
   ]
  },
  {
   "cell_type": "code",
   "execution_count": 11,
   "id": "11d82e1c-9d65-4297-a322-51544a356356",
   "metadata": {},
   "outputs": [
    {
     "name": "stdout",
     "output_type": "stream",
     "text": [
      "<class 'pandas.core.frame.DataFrame'>\n",
      "RangeIndex: 7043 entries, 0 to 7042\n",
      "Data columns (total 46 columns):\n",
      " #   Column                             Non-Null Count  Dtype  \n",
      "---  ------                             --------------  -----  \n",
      " 0   Customer ID                        7043 non-null   object \n",
      " 1   Referred a Friend                  7043 non-null   object \n",
      " 2   Number of Referrals                7043 non-null   int64  \n",
      " 3   Tenure in Months                   7043 non-null   int64  \n",
      " 4   Offer                              3166 non-null   object \n",
      " 5   Phone Service                      7043 non-null   object \n",
      " 6   Avg Monthly Long Distance Charges  7043 non-null   float64\n",
      " 7   Multiple Lines                     7043 non-null   object \n",
      " 8   Internet Service                   7043 non-null   object \n",
      " 9   Internet Type                      5517 non-null   object \n",
      " 10  Avg Monthly GB Download            7043 non-null   int64  \n",
      " 11  Online Security                    7043 non-null   object \n",
      " 12  Online Backup                      7043 non-null   object \n",
      " 13  Device Protection Plan             7043 non-null   object \n",
      " 14  Premium Tech Support               7043 non-null   object \n",
      " 15  Streaming TV                       7043 non-null   object \n",
      " 16  Streaming Movies                   7043 non-null   object \n",
      " 17  Streaming Music                    7043 non-null   object \n",
      " 18  Unlimited Data                     7043 non-null   object \n",
      " 19  Contract                           7043 non-null   object \n",
      " 20  Paperless Billing                  7043 non-null   object \n",
      " 21  Payment Method                     7043 non-null   object \n",
      " 22  Monthly Charge                     7043 non-null   float64\n",
      " 23  Total Regular Charges              7043 non-null   float64\n",
      " 24  Total Refunds                      7043 non-null   float64\n",
      " 25  Total Extra Data Charges           7043 non-null   float64\n",
      " 26  Total Long Distance Charges        7043 non-null   float64\n",
      " 27  Gender                             7043 non-null   object \n",
      " 28  Age                                7043 non-null   int64  \n",
      " 29  Under 30                           7043 non-null   object \n",
      " 30  Senior Citizen                     7043 non-null   object \n",
      " 31  Married                            7043 non-null   object \n",
      " 32  Dependents                         7043 non-null   object \n",
      " 33  Number of Dependents               7043 non-null   int64  \n",
      " 34  City                               7043 non-null   object \n",
      " 35  Zip Code                           7043 non-null   int64  \n",
      " 36  Latitude                           7043 non-null   float64\n",
      " 37  Longitude                          7043 non-null   float64\n",
      " 38  Population                         7043 non-null   int64  \n",
      " 39  Churn Value                        7043 non-null   int64  \n",
      " 40  CLTV                               7043 non-null   int64  \n",
      " 41  Churn Category                     1869 non-null   object \n",
      " 42  Churn Reason                       1869 non-null   object \n",
      " 43  Total Customer Svc Requests        7043 non-null   int64  \n",
      " 44  Product/Service Issues Reported    7043 non-null   int64  \n",
      " 45  Customer Satisfaction              1834 non-null   float64\n",
      "dtypes: float64(9), int64(11), object(26)\n",
      "memory usage: 2.5+ MB\n"
     ]
    }
   ],
   "source": [
    "data.info()"
   ]
  },
  {
   "cell_type": "markdown",
   "id": "f6c9500b-e0a3-4db6-917a-00c16b2e0255",
   "metadata": {},
   "source": [
    "### Check for Missing Data"
   ]
  },
  {
   "cell_type": "code",
   "execution_count": 13,
   "id": "c6f136ea-a1bd-48df-aaa5-692bae058ace",
   "metadata": {},
   "outputs": [
    {
     "data": {
      "text/plain": [
       "Customer ID                             0\n",
       "Referred a Friend                       0\n",
       "Number of Referrals                     0\n",
       "Tenure in Months                        0\n",
       "Offer                                3877\n",
       "Phone Service                           0\n",
       "Avg Monthly Long Distance Charges       0\n",
       "Multiple Lines                          0\n",
       "Internet Service                        0\n",
       "Internet Type                        1526\n",
       "Avg Monthly GB Download                 0\n",
       "Online Security                         0\n",
       "Online Backup                           0\n",
       "Device Protection Plan                  0\n",
       "Premium Tech Support                    0\n",
       "Streaming TV                            0\n",
       "Streaming Movies                        0\n",
       "Streaming Music                         0\n",
       "Unlimited Data                          0\n",
       "Contract                                0\n",
       "Paperless Billing                       0\n",
       "Payment Method                          0\n",
       "Monthly Charge                          0\n",
       "Total Regular Charges                   0\n",
       "Total Refunds                           0\n",
       "Total Extra Data Charges                0\n",
       "Total Long Distance Charges             0\n",
       "Gender                                  0\n",
       "Age                                     0\n",
       "Under 30                                0\n",
       "Senior Citizen                          0\n",
       "Married                                 0\n",
       "Dependents                              0\n",
       "Number of Dependents                    0\n",
       "City                                    0\n",
       "Zip Code                                0\n",
       "Latitude                                0\n",
       "Longitude                               0\n",
       "Population                              0\n",
       "Churn Value                             0\n",
       "CLTV                                    0\n",
       "Churn Category                       5174\n",
       "Churn Reason                         5174\n",
       "Total Customer Svc Requests             0\n",
       "Product/Service Issues Reported         0\n",
       "Customer Satisfaction                5209\n",
       "dtype: int64"
      ]
     },
     "execution_count": 13,
     "metadata": {},
     "output_type": "execute_result"
    }
   ],
   "source": [
    "data.isnull().sum()"
   ]
  },
  {
   "cell_type": "markdown",
   "id": "eb569ab0-990c-4f01-a89f-355b2f2cd65c",
   "metadata": {},
   "source": [
    "### Plot Distributions of Features"
   ]
  },
  {
   "cell_type": "code",
   "execution_count": 22,
   "id": "51b7cfd0-979c-48a4-81fd-8c34cac374f6",
   "metadata": {},
   "outputs": [
    {
     "data": {
      "image/png": "[encoded data removed]",
      "text/plain": [
       "<Figure size 640x480 with 1 Axes>"
      ]
     },
     "metadata": {},
     "output_type": "display_data"
    }
   ],
   "source": [
    "sns.countplot(x = 'Churn Value', data = data)\n",
    "plt.title('Churn Distribution')\n",
    "plt.ylabel('Count')\n",
    "plt.show()"
   ]
  },
  {
   "cell_type": "code",
   "execution_count": 21,
   "id": "7580103d-7d0c-47c2-aa59-14918e986d31",
   "metadata": {},
   "outputs": [
    {
     "data": {
      "image/png": "[encoded data removed]",
      "text/plain": [
       "<Figure size 640x480 with 1 Axes>"
      ]
     },
     "metadata": {},
     "output_type": "display_data"
    }
   ],
   "source": [
    "sns.boxplot(x = 'Churn Value', y = 'Monthly Charge', data = data)\n",
    "plt.title('Monthly Charges by Churn')\n",
    "plt.show()"
   ]
  },
  {
   "cell_type": "markdown",
   "id": "d71dbb0d-49c4-451f-9088-9480722c2148",
   "metadata": {},
   "source": [
    "## 3. Data Preprocessing\n",
    "\n",
    "We will handle any missing values, encode categorical variables, and normalize numerical features."
   ]
  },
  {
   "cell_type": "code",
   "execution_count": 24,
   "id": "49e7fca9-414c-41a1-8d53-5b8920834238",
   "metadata": {},
   "outputs": [],
   "source": [
    "from sklearn.model_selection import train_test_split\n",
    "from sklearn.preprocessing import StandardScaler"
   ]
  },
  {
   "cell_type": "markdown",
   "id": "a0172500-b400-4c0c-83c6-c2b989cbb9cf",
   "metadata": {},
   "source": [
    "### Handle Missing Values for Numerical Columns"
   ]
  },
  {
   "cell_type": "code",
   "execution_count": 25,
   "id": "9d73ecf7-8f18-4f6b-98d1-e16e12a1f8a2",
   "metadata": {},
   "outputs": [
    {
     "data": {
      "text/plain": [
       "Index(['Number of Referrals', 'Tenure in Months',\n",
       "       'Avg Monthly Long Distance Charges', 'Avg Monthly GB Download',\n",
       "       'Monthly Charge', 'Total Regular Charges', 'Total Refunds',\n",
       "       'Total Extra Data Charges', 'Total Long Distance Charges', 'Age',\n",
       "       ...\n",
       "       'Churn Reason_Lack of self-service on Website',\n",
       "       'Churn Reason_Limited range of services',\n",
       "       'Churn Reason_Long distance charges', 'Churn Reason_Moved',\n",
       "       'Churn Reason_Network reliability',\n",
       "       'Churn Reason_Poor expertise of online support',\n",
       "       'Churn Reason_Poor expertise of phone support',\n",
       "       'Churn Reason_Price too high', 'Churn Reason_Product dissatisfaction',\n",
       "       'Churn Reason_Service dissatisfaction'],\n",
       "      dtype='object', length=8218)"
      ]
     },
     "execution_count": 25,
     "metadata": {},
     "output_type": "execute_result"
    }
   ],
   "source": [
    "num_col = data.select_dtypes(include=['float64', 'int64']).columns\n",
    "\n",
    "data[num_col] = data[num_col].fillna(data[num_col].mean())\n",
    "\n",
    "data = pd.get_dummies(data, drop_first = True)\n",
    "data.columns"
   ]
  },
  {
   "cell_type": "code",
   "execution_count": 26,
   "id": "bd86aea7-102e-4b4c-9a45-15d14a0c167c",
   "metadata": {},
   "outputs": [],
   "source": [
    "X = data.drop('Churn Value', axis = 1)\n",
    "y = data['Churn Value']\n",
    "\n",
    "X_train, X_test, y_train, y_test = train_test_split(X, y, test_size = 0.2, random_state = 42)\n",
    "\n",
    "scaler = StandardScaler()\n",
    "X_train = scaler.fit_transform(X_train)\n",
    "X_test = scaler.transform(X_test)"
   ]
  },
  {
   "cell_type": "markdown",
   "id": "cb6bfcf3-4802-4178-8682-3a0c624008b4",
   "metadata": {},
   "source": [
    "## 4. Model Fitting\n",
    "\n",
    "We will use logistic regression to fit the model to our training data."
   ]
  },
  {
   "cell_type": "code",
   "execution_count": 28,
   "id": "abad374f-b3e9-49cc-88f4-008be9b0e91a",
   "metadata": {},
   "outputs": [
    {
     "data": {
      "text/html": [
       "<style>#sk-container-id-2 {color: black;background-color: white;}#sk-container-id-2 pre{padding: 0;}#sk-container-id-2 div.sk-toggleable {background-color: white;}#sk-container-id-2 label.sk-toggleable__label {cursor: pointer;display: block;width: 100%;margin-bottom: 0;padding: 0.3em;box-sizing: border-box;text-align: center;}#sk-container-id-2 label.sk-toggleable__label-arrow:before {content: \"▸\";float: left;margin-right: 0.25em;color: #696969;}#sk-container-id-2 label.sk-toggleable__label-arrow:hover:before {color: black;}#sk-container-id-2 div.sk-estimator:hover label.sk-toggleable__label-arrow:before {color: black;}#sk-container-id-2 div.sk-toggleable__content {max-height: 0;max-width: 0;overflow: hidden;text-align: left;background-color: #f0f8ff;}#sk-container-id-2 div.sk-toggleable__content pre {margin: 0.2em;color: black;border-radius: 0.25em;background-color: #f0f8ff;}#sk-container-id-2 input.sk-toggleable__control:checked~div.sk-toggleable__content {max-height: 200px;max-width: 100%;overflow: auto;}#sk-container-id-2 input.sk-toggleable__control:checked~label.sk-toggleable__label-arrow:before {content: \"▾\";}#sk-container-id-2 div.sk-estimator input.sk-toggleable__control:checked~label.sk-toggleable__label {background-color: #d4ebff;}#sk-container-id-2 div.sk-label input.sk-toggleable__control:checked~label.sk-toggleable__label {background-color: #d4ebff;}#sk-container-id-2 input.sk-hidden--visually {border: 0;clip: rect(1px 1px 1px 1px);clip: rect(1px, 1px, 1px, 1px);height: 1px;margin: -1px;overflow: hidden;padding: 0;position: absolute;width: 1px;}#sk-container-id-2 div.sk-estimator {font-family: monospace;background-color: #f0f8ff;border: 1px dotted black;border-radius: 0.25em;box-sizing: border-box;margin-bottom: 0.5em;}#sk-container-id-2 div.sk-estimator:hover {background-color: #d4ebff;}#sk-container-id-2 div.sk-parallel-item::after {content: \"\";width: 100%;border-bottom: 1px solid gray;flex-grow: 1;}#sk-container-id-2 div.sk-label:hover label.sk-toggleable__label {background-color: #d4ebff;}#sk-container-id-2 div.sk-serial::before {content: \"\";position: absolute;border-left: 1px solid gray;box-sizing: border-box;top: 0;bottom: 0;left: 50%;z-index: 0;}#sk-container-id-2 div.sk-serial {display: flex;flex-direction: column;align-items: center;background-color: white;padding-right: 0.2em;padding-left: 0.2em;position: relative;}#sk-container-id-2 div.sk-item {position: relative;z-index: 1;}#sk-container-id-2 div.sk-parallel {display: flex;align-items: stretch;justify-content: center;background-color: white;position: relative;}#sk-container-id-2 div.sk-item::before, #sk-container-id-2 div.sk-parallel-item::before {content: \"\";position: absolute;border-left: 1px solid gray;box-sizing: border-box;top: 0;bottom: 0;left: 50%;z-index: -1;}#sk-container-id-2 div.sk-parallel-item {display: flex;flex-direction: column;z-index: 1;position: relative;background-color: white;}#sk-container-id-2 div.sk-parallel-item:first-child::after {align-self: flex-end;width: 50%;}#sk-container-id-2 div.sk-parallel-item:last-child::after {align-self: flex-start;width: 50%;}#sk-container-id-2 div.sk-parallel-item:only-child::after {width: 0;}#sk-container-id-2 div.sk-dashed-wrapped {border: 1px dashed gray;margin: 0 0.4em 0.5em 0.4em;box-sizing: border-box;padding-bottom: 0.4em;background-color: white;}#sk-container-id-2 div.sk-label label {font-family: monospace;font-weight: bold;display: inline-block;line-height: 1.2em;}#sk-container-id-2 div.sk-label-container {text-align: center;}#sk-container-id-2 div.sk-container {/* jupyter's `normalize.less` sets `[hidden] { display: none; }` but bootstrap.min.css set `[hidden] { display: none !important; }` so we also need the `!important` here to be able to override the default hidden behavior on the sphinx rendered scikit-learn.org. See: https://github.com/scikit-learn/scikit-learn/issues/21755 */display: inline-block !important;position: relative;}#sk-container-id-2 div.sk-text-repr-fallback {display: none;}</style><div id=\"sk-container-id-2\" class=\"sk-top-container\"><div class=\"sk-text-repr-fallback\"><pre>LogisticRegression()</pre><b>In a Jupyter environment, please rerun this cell to show the HTML representation or trust the notebook. <br />On GitHub, the HTML representation is unable to render, please try loading this page with nbviewer.org.</b></div><div class=\"sk-container\" hidden><div class=\"sk-item\"><div class=\"sk-estimator sk-toggleable\"><input class=\"sk-toggleable__control sk-hidden--visually\" id=\"sk-estimator-id-2\" type=\"checkbox\" checked><label for=\"sk-estimator-id-2\" class=\"sk-toggleable__label sk-toggleable__label-arrow\">LogisticRegression</label><div class=\"sk-toggleable__content\"><pre>LogisticRegression()</pre></div></div></div></div></div>"
      ],
      "text/plain": [
       "LogisticRegression()"
      ]
     },
     "execution_count": 28,
     "metadata": {},
     "output_type": "execute_result"
    }
   ],
   "source": [
    "from sklearn.linear_model import LogisticRegression\n",
    "\n",
    "reg = LogisticRegression()\n",
    "reg.fit(X_train, y_train)\n",
    "reg"
   ]
  },
  {
   "cell_type": "markdown",
   "id": "073d6320-4e81-428f-8cf1-35a4b7773f09",
   "metadata": {},
   "source": [
    "## 5. Prediction and Evaluation\n",
    "\n",
    "We will predict customer churn for the test set and evaluate the model's performance."
   ]
  },
  {
   "cell_type": "code",
   "execution_count": 43,
   "id": "0dda39a9-7608-4ba0-96a9-0e006bfd0d09",
   "metadata": {},
   "outputs": [
    {
     "name": "stdout",
     "output_type": "stream",
     "text": [
      "Accuracy: 0.9673527324343506\n"
     ]
    }
   ],
   "source": [
    "from sklearn import metrics\n",
    "\n",
    "pred = reg.predict(X_test)\n",
    "acc = metrics.accuracy_score(y_test, pred)\n",
    "\n",
    "print(f'Accuracy: {acc}')"
   ]
  },
  {
   "cell_type": "code",
   "execution_count": 41,
   "id": "01948559-1f25-455e-a9cf-263b6b67f46f",
   "metadata": {},
   "outputs": [
    {
     "name": "stdout",
     "output_type": "stream",
     "text": [
      "Confusion Matrix:\n",
      "[[1008    1]\n",
      " [  45  355]]\n",
      "ROC AUC: 0.9432544598612487\n"
     ]
    }
   ],
   "source": [
    "from sklearn.metrics import confusion_matrix\n",
    "from sklearn.metrics import roc_curve\n",
    "from sklearn.metrics import auc\n",
    "\n",
    "cm = confusion_matrix(y_test, pred)\n",
    "fpr, tpr, thresholds = roc_curve(y_test, pred)\n",
    "roc_auc = auc(fpr, tpr)\n",
    "\n",
    "print(f'Confusion Matrix:\\n{cm}')\n",
    "print(f'ROC AUC: {roc_auc}')"
   ]
  },
  {
   "cell_type": "markdown",
   "id": "af18c543-37b9-417a-8094-a35d4f032971",
   "metadata": {},
   "source": [
    "## 6. Plot the ROC Curve"
   ]
  },
  {
   "cell_type": "code",
   "execution_count": 40,
   "id": "a5c30039-21fc-4a04-a313-be369b7d6dc3",
   "metadata": {},
   "outputs": [
    {
     "data": {
      "image/png": "[encoded data removed]",
      "text/plain": [
       "<Figure size 800x600 with 1 Axes>"
      ]
     },
     "metadata": {},
     "output_type": "display_data"
    }
   ],
   "source": [
    "plt.figure(figsize = (8, 6))\n",
    "plt.plot(fpr, tpr, label = f'ROC curve (area = {roc_auc:.2f})')\n",
    "plt.plot([0, 1], [0, 1], 'k--')\n",
    "plt.xlabel('False Positive Rate')\n",
    "plt.ylabel('True Positive Rate')\n",
    "plt.title('Receiver Operating Characteristic (ROC) Curve')\n",
    "plt.legend(loc='lower right')\n",
    "plt.show()"
   ]
  },
  {
   "cell_type": "markdown",
   "id": "b9301840-57b5-4e5c-9320-90a967a6a77b",
   "metadata": {},
   "source": [
    "## 7. Discussion\n",
    "\n",
    "We analyze the model's accuracy and discuss potential improvements and biases.\n"
   ]
  },
  {
   "cell_type": "markdown",
   "id": "d6f75f1b-2431-42ea-acf6-4fe8e276a5a7",
   "metadata": {},
   "source": [
    "### Model Accuracy\n",
    "\n",
    "- The accuracy score shows the proportion of correct predictions.\n",
    "- The confusion matrix is used to evaluate the performance of a classification model, providing a summary of the prediction results. It compares the actual target values with the values predicted by the model.\n",
    "- The ROC AUC value indicates the model's ability to distinguish between classes. Values closer to 1 indicate better performance.\n",
    "\n",
    "### Potential Improvements\n",
    "\n",
    "- Use more advanced classification techniques.\n",
    "- Balance the dataset if there is class imbalance.\n",
    "\n",
    "### Potential Biases\n",
    "\n",
    "- The dataset may not be representative of all customer demographics.\n",
    "- The model may overfit or underfit if not properly validated."
   ]
  },
  {
   "cell_type": "code",
   "execution_count": null,
   "id": "6216e9c2-dde6-4510-9078-e01597d7cf04",
   "metadata": {},
   "outputs": [],
   "source": []
  }
 ],
 "metadata": {
  "kernelspec": {
   "display_name": "Python 3 (ipykernel)",
   "language": "python",
   "name": "python3"
  },
  "language_info": {
   "codemirror_mode": {
    "name": "ipython",
    "version": 3
   },
   "file_extension": ".py",
   "mimetype": "text/x-python",
   "name": "python",
   "nbconvert_exporter": "python",
   "pygments_lexer": "ipython3",
   "version": "3.11.7"
  }
 },
 "nbformat": 4,
 "nbformat_minor": 5
}
