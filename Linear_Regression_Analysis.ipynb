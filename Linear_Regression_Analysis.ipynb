{
 "cells": [
  {
   "cell_type": "markdown",
   "id": "e58ee32c-6add-45a1-a020-3350fb1ef278",
   "metadata": {},
   "source": [
    "# Linear Regression Analysis for Real Estate Price\n",
    "\n",
    "## Objective\n",
    "Apply linear regression to predict housing prices using a real estate dataset.\n",
    "\n",
    "## Steps\n",
    "1. Load dataset.\n",
    "2. Understand Information.\n",
    "3. Data Preprocessing.\n",
    "4. Model fitting.\n",
    "5. Prediction and Evaluation.\n",
    "6. Discussion"
   ]
  },
  {
   "cell_type": "markdown",
   "id": "32902282-e57e-4f08-8dd6-5d42c4a91e76",
   "metadata": {},
   "source": [
    "## Setup Environment"
   ]
  },
  {
   "cell_type": "code",
   "execution_count": null,
   "id": "0a3efbcb-386f-4c04-a3c9-6a9b2849eefe",
   "metadata": {},
   "outputs": [],
   "source": [
    "import pandas as pd"
   ]
  },
  {
   "cell_type": "markdown",
   "id": "024af46e-5d4b-4fcd-984d-aca0c9dafc2c",
   "metadata": {},
   "source": [
    "## 1. Load Dataset\n",
    "\n",
    "We begin by loading a real estate dataset that includes housing prices and relevant features."
   ]
  },
  {
   "cell_type": "code",
   "execution_count": 44,
   "id": "d7f18d7e-f9aa-4785-adb7-d36fef0ca250",
   "metadata": {},
   "outputs": [
    {
     "data": {
      "text/html": [
       "<div>\n",
       "<style scoped>\n",
       "    .dataframe tbody tr th:only-of-type {\n",
       "        vertical-align: middle;\n",
       "    }\n",
       "\n",
       "    .dataframe tbody tr th {\n",
       "        vertical-align: top;\n",
       "    }\n",
       "\n",
       "    .dataframe thead th {\n",
       "        text-align: right;\n",
       "    }\n",
       "</style>\n",
       "<table border=\"1\" class=\"dataframe\">\n",
       "  <thead>\n",
       "    <tr style=\"text-align: right;\">\n",
       "      <th></th>\n",
       "      <th>No</th>\n",
       "      <th>X1 transaction date</th>\n",
       "      <th>X2 house age</th>\n",
       "      <th>X3 distance to the nearest MRT station</th>\n",
       "      <th>X4 number of convenience stores</th>\n",
       "      <th>X5 latitude</th>\n",
       "      <th>X6 longitude</th>\n",
       "      <th>Y house price of unit area</th>\n",
       "    </tr>\n",
       "  </thead>\n",
       "  <tbody>\n",
       "    <tr>\n",
       "      <th>0</th>\n",
       "      <td>1</td>\n",
       "      <td>2012.917</td>\n",
       "      <td>32.0</td>\n",
       "      <td>84.87882</td>\n",
       "      <td>10</td>\n",
       "      <td>24.98298</td>\n",
       "      <td>121.54024</td>\n",
       "      <td>37.9</td>\n",
       "    </tr>\n",
       "    <tr>\n",
       "      <th>1</th>\n",
       "      <td>2</td>\n",
       "      <td>2012.917</td>\n",
       "      <td>19.5</td>\n",
       "      <td>306.59470</td>\n",
       "      <td>9</td>\n",
       "      <td>24.98034</td>\n",
       "      <td>121.53951</td>\n",
       "      <td>42.2</td>\n",
       "    </tr>\n",
       "    <tr>\n",
       "      <th>2</th>\n",
       "      <td>3</td>\n",
       "      <td>2013.583</td>\n",
       "      <td>13.3</td>\n",
       "      <td>561.98450</td>\n",
       "      <td>5</td>\n",
       "      <td>24.98746</td>\n",
       "      <td>121.54391</td>\n",
       "      <td>47.3</td>\n",
       "    </tr>\n",
       "    <tr>\n",
       "      <th>3</th>\n",
       "      <td>4</td>\n",
       "      <td>2013.500</td>\n",
       "      <td>13.3</td>\n",
       "      <td>561.98450</td>\n",
       "      <td>5</td>\n",
       "      <td>24.98746</td>\n",
       "      <td>121.54391</td>\n",
       "      <td>54.8</td>\n",
       "    </tr>\n",
       "    <tr>\n",
       "      <th>4</th>\n",
       "      <td>5</td>\n",
       "      <td>2012.833</td>\n",
       "      <td>5.0</td>\n",
       "      <td>390.56840</td>\n",
       "      <td>5</td>\n",
       "      <td>24.97937</td>\n",
       "      <td>121.54245</td>\n",
       "      <td>43.1</td>\n",
       "    </tr>\n",
       "  </tbody>\n",
       "</table>\n",
       "</div>"
      ],
      "text/plain": [
       "   No  X1 transaction date  X2 house age  \\\n",
       "0   1             2012.917          32.0   \n",
       "1   2             2012.917          19.5   \n",
       "2   3             2013.583          13.3   \n",
       "3   4             2013.500          13.3   \n",
       "4   5             2012.833           5.0   \n",
       "\n",
       "   X3 distance to the nearest MRT station  X4 number of convenience stores  \\\n",
       "0                                84.87882                               10   \n",
       "1                               306.59470                                9   \n",
       "2                               561.98450                                5   \n",
       "3                               561.98450                                5   \n",
       "4                               390.56840                                5   \n",
       "\n",
       "   X5 latitude  X6 longitude  Y house price of unit area  \n",
       "0     24.98298     121.54024                        37.9  \n",
       "1     24.98034     121.53951                        42.2  \n",
       "2     24.98746     121.54391                        47.3  \n",
       "3     24.98746     121.54391                        54.8  \n",
       "4     24.97937     121.54245                        43.1  "
      ]
     },
     "execution_count": 44,
     "metadata": {},
     "output_type": "execute_result"
    }
   ],
   "source": [
    "csv_file = 'Real_Estate.csv'\n",
    "\n",
    "data = pd.read_csv(csv_file)\n",
    "data.head()"
   ]
  },
  {
   "cell_type": "markdown",
   "id": "2fc65dbd-8bd5-4a44-9069-20fb67c3fdc3",
   "metadata": {},
   "source": [
    "## 2. Understand Information"
   ]
  },
  {
   "cell_type": "code",
   "execution_count": 46,
   "id": "39519450-3216-4313-824f-27b1f522257e",
   "metadata": {},
   "outputs": [
    {
     "name": "stdout",
     "output_type": "stream",
     "text": [
      "<class 'pandas.core.frame.DataFrame'>\n",
      "RangeIndex: 414 entries, 0 to 413\n",
      "Data columns (total 8 columns):\n",
      " #   Column                                  Non-Null Count  Dtype  \n",
      "---  ------                                  --------------  -----  \n",
      " 0   No                                      414 non-null    int64  \n",
      " 1   X1 transaction date                     414 non-null    float64\n",
      " 2   X2 house age                            414 non-null    float64\n",
      " 3   X3 distance to the nearest MRT station  414 non-null    float64\n",
      " 4   X4 number of convenience stores         414 non-null    int64  \n",
      " 5   X5 latitude                             414 non-null    float64\n",
      " 6   X6 longitude                            414 non-null    float64\n",
      " 7   Y house price of unit area              414 non-null    float64\n",
      "dtypes: float64(6), int64(2)\n",
      "memory usage: 26.0 KB\n"
     ]
    }
   ],
   "source": [
    "data.info()"
   ]
  },
  {
   "cell_type": "markdown",
   "id": "07030d3f-0be1-4121-abe3-ccef09277c09",
   "metadata": {},
   "source": [
    "## 3. Data Preprocessing\n",
    "\n",
    "We will handle any missing values, encode categorical variables, and normalize numerical features."
   ]
  },
  {
   "cell_type": "code",
   "execution_count": 49,
   "id": "a3112f62-db04-457a-9744-a1eed51ca477",
   "metadata": {},
   "outputs": [],
   "source": [
    "from sklearn.model_selection import train_test_split\n",
    "from sklearn.preprocessing import StandardScaler\n",
    "\n",
    "data.fillna(data.mean(), inplace = True)\n",
    "\n",
    "data = pd.get_dummies(data)\n",
    "\n",
    "X = data.drop('Y house price of unit area', axis = 1)\n",
    "y = data['Y house price of unit area']\n",
    "\n",
    "X_train, X_test, y_train, y_test = train_test_split(X, y, test_size = 0.2, random_state = 42)\n",
    "\n",
    "scaler = StandardScaler()\n",
    "X_train = scaler.fit_transform(X_train)\n",
    "X_test = scaler.transform(X_test)"
   ]
  },
  {
   "cell_type": "markdown",
   "id": "2880e83a-7de4-45fa-a831-89ab6b0098f8",
   "metadata": {},
   "source": [
    "## 4. Model Fitting\n",
    "\n",
    "We will use linear regression to fit the model to our training data."
   ]
  },
  {
   "cell_type": "code",
   "execution_count": 72,
   "id": "71b9eaf2-aa78-4e03-b566-48a143b17de2",
   "metadata": {},
   "outputs": [
    {
     "data": {
      "text/html": [
       "<style>#sk-container-id-5 {color: black;background-color: white;}#sk-container-id-5 pre{padding: 0;}#sk-container-id-5 div.sk-toggleable {background-color: white;}#sk-container-id-5 label.sk-toggleable__label {cursor: pointer;display: block;width: 100%;margin-bottom: 0;padding: 0.3em;box-sizing: border-box;text-align: center;}#sk-container-id-5 label.sk-toggleable__label-arrow:before {content: \"▸\";float: left;margin-right: 0.25em;color: #696969;}#sk-container-id-5 label.sk-toggleable__label-arrow:hover:before {color: black;}#sk-container-id-5 div.sk-estimator:hover label.sk-toggleable__label-arrow:before {color: black;}#sk-container-id-5 div.sk-toggleable__content {max-height: 0;max-width: 0;overflow: hidden;text-align: left;background-color: #f0f8ff;}#sk-container-id-5 div.sk-toggleable__content pre {margin: 0.2em;color: black;border-radius: 0.25em;background-color: #f0f8ff;}#sk-container-id-5 input.sk-toggleable__control:checked~div.sk-toggleable__content {max-height: 200px;max-width: 100%;overflow: auto;}#sk-container-id-5 input.sk-toggleable__control:checked~label.sk-toggleable__label-arrow:before {content: \"▾\";}#sk-container-id-5 div.sk-estimator input.sk-toggleable__control:checked~label.sk-toggleable__label {background-color: #d4ebff;}#sk-container-id-5 div.sk-label input.sk-toggleable__control:checked~label.sk-toggleable__label {background-color: #d4ebff;}#sk-container-id-5 input.sk-hidden--visually {border: 0;clip: rect(1px 1px 1px 1px);clip: rect(1px, 1px, 1px, 1px);height: 1px;margin: -1px;overflow: hidden;padding: 0;position: absolute;width: 1px;}#sk-container-id-5 div.sk-estimator {font-family: monospace;background-color: #f0f8ff;border: 1px dotted black;border-radius: 0.25em;box-sizing: border-box;margin-bottom: 0.5em;}#sk-container-id-5 div.sk-estimator:hover {background-color: #d4ebff;}#sk-container-id-5 div.sk-parallel-item::after {content: \"\";width: 100%;border-bottom: 1px solid gray;flex-grow: 1;}#sk-container-id-5 div.sk-label:hover label.sk-toggleable__label {background-color: #d4ebff;}#sk-container-id-5 div.sk-serial::before {content: \"\";position: absolute;border-left: 1px solid gray;box-sizing: border-box;top: 0;bottom: 0;left: 50%;z-index: 0;}#sk-container-id-5 div.sk-serial {display: flex;flex-direction: column;align-items: center;background-color: white;padding-right: 0.2em;padding-left: 0.2em;position: relative;}#sk-container-id-5 div.sk-item {position: relative;z-index: 1;}#sk-container-id-5 div.sk-parallel {display: flex;align-items: stretch;justify-content: center;background-color: white;position: relative;}#sk-container-id-5 div.sk-item::before, #sk-container-id-5 div.sk-parallel-item::before {content: \"\";position: absolute;border-left: 1px solid gray;box-sizing: border-box;top: 0;bottom: 0;left: 50%;z-index: -1;}#sk-container-id-5 div.sk-parallel-item {display: flex;flex-direction: column;z-index: 1;position: relative;background-color: white;}#sk-container-id-5 div.sk-parallel-item:first-child::after {align-self: flex-end;width: 50%;}#sk-container-id-5 div.sk-parallel-item:last-child::after {align-self: flex-start;width: 50%;}#sk-container-id-5 div.sk-parallel-item:only-child::after {width: 0;}#sk-container-id-5 div.sk-dashed-wrapped {border: 1px dashed gray;margin: 0 0.4em 0.5em 0.4em;box-sizing: border-box;padding-bottom: 0.4em;background-color: white;}#sk-container-id-5 div.sk-label label {font-family: monospace;font-weight: bold;display: inline-block;line-height: 1.2em;}#sk-container-id-5 div.sk-label-container {text-align: center;}#sk-container-id-5 div.sk-container {/* jupyter's `normalize.less` sets `[hidden] { display: none; }` but bootstrap.min.css set `[hidden] { display: none !important; }` so we also need the `!important` here to be able to override the default hidden behavior on the sphinx rendered scikit-learn.org. See: https://github.com/scikit-learn/scikit-learn/issues/21755 */display: inline-block !important;position: relative;}#sk-container-id-5 div.sk-text-repr-fallback {display: none;}</style><div id=\"sk-container-id-5\" class=\"sk-top-container\"><div class=\"sk-text-repr-fallback\"><pre>LinearRegression()</pre><b>In a Jupyter environment, please rerun this cell to show the HTML representation or trust the notebook. <br />On GitHub, the HTML representation is unable to render, please try loading this page with nbviewer.org.</b></div><div class=\"sk-container\" hidden><div class=\"sk-item\"><div class=\"sk-estimator sk-toggleable\"><input class=\"sk-toggleable__control sk-hidden--visually\" id=\"sk-estimator-id-5\" type=\"checkbox\" checked><label for=\"sk-estimator-id-5\" class=\"sk-toggleable__label sk-toggleable__label-arrow\">LinearRegression</label><div class=\"sk-toggleable__content\"><pre>LinearRegression()</pre></div></div></div></div></div>"
      ],
      "text/plain": [
       "LinearRegression()"
      ]
     },
     "execution_count": 72,
     "metadata": {},
     "output_type": "execute_result"
    }
   ],
   "source": [
    "from sklearn.linear_model import LinearRegression\n",
    "\n",
    "reg = LinearRegression()\n",
    "\n",
    "reg.fit(X_train, y_train)\n",
    "reg"
   ]
  },
  {
   "cell_type": "markdown",
   "id": "75503a70-0694-45f8-9c83-6389d963f80d",
   "metadata": {},
   "source": [
    "## 5. Prediction and Evaluation\n",
    "\n",
    "We will predict the housing prices for the test set and evaluate the model's performance."
   ]
  },
  {
   "cell_type": "code",
   "execution_count": 73,
   "id": "b07926bf-333f-4bc1-8935-92c8897c31cd",
   "metadata": {},
   "outputs": [
    {
     "data": {
      "text/plain": [
       "array([38.68928931, 33.98663039, 32.18637377, 40.46470034, 45.42448177,\n",
       "       33.9548707 , 40.15323131, 12.53301733, 39.91916791, 41.42478505,\n",
       "       49.54408363, 47.6937185 , 39.40831706, 35.05171431, 43.76591051,\n",
       "       30.98146663, 48.52421431, 29.48982739, 33.39842351, 43.87098879,\n",
       "       30.80915741, 48.20923355, 48.46743841, 30.33852893, 25.46352144,\n",
       "       41.02925977, 38.4083065 , 37.15837455, 40.42563123, 48.5126692 ,\n",
       "       46.57150295, 19.40115745, 40.42537053, 44.91464581, 43.7788366 ,\n",
       "       31.34851131, 33.09693918, 45.60293602, 15.62861649, 51.77255574,\n",
       "       47.8103501 , 37.5961623 , 48.05813635, 15.90529108, 48.49093796,\n",
       "       12.78354048, 29.79921903, 34.34277268, 40.03041937, 46.3614422 ,\n",
       "       39.8541305 , 37.49625336, 33.54816526, 37.70853697, 26.71423492,\n",
       "       34.6338155 , 25.22665633, 37.24813104, 43.50413125, 53.29632729,\n",
       "       35.97599037, 48.10716824, 40.9995586 , 42.15449284, 43.82817656,\n",
       "       44.86204615, 30.44301133, 44.13973642, 31.52491836, 39.87267975,\n",
       "       41.19351775, 54.48965568, 44.28458615, 32.91963523, 41.63603755,\n",
       "       45.63950018, 42.81287077, 38.89195354, 39.59894368, 47.09282864,\n",
       "       36.17374507, 45.46573723, 40.84149027, 35.07098259, 11.62672427,\n",
       "       44.36675719, 38.56991181, 43.38379043, 51.3162948 , 45.63352096,\n",
       "       33.54996686, 38.72177547, 27.38875038, 51.67671672, 43.26013888,\n",
       "       17.04379693, 39.54256583, 47.54631381, 47.03595358, 43.56983123,\n",
       "       28.71367014, 45.78086798, 45.06057118, 54.07247548, 44.16712571,\n",
       "       43.60859343, 38.35612656,  6.5944074 , 44.111048  , 48.75958185,\n",
       "       31.59005593, 30.56160023, 41.01776129, 34.11795476, 34.09303271,\n",
       "       48.08554128, 34.33484491, 38.61204333, 14.83865132, 11.47949874,\n",
       "       12.23651173, 49.59147238, 48.35520873, 41.32462211, 46.9723802 ,\n",
       "       31.57259423, 43.55110623, 44.83399285, 42.63346391, 43.89169167,\n",
       "       39.53659308, 46.42854027, 16.01600659, 43.29703714, 44.87150894,\n",
       "       42.72333515, 37.18469891, 44.03967355, 44.98698145, 54.12247473,\n",
       "       47.68007665, 30.69220247, 53.30840608, 34.58798419, 40.0494748 ,\n",
       "       29.13191345, 24.53299826, 34.73641269, 13.42730574, 53.89486847,\n",
       "       36.76448379, 33.32452739, 14.54736377, 44.19206917, 29.55612844,\n",
       "        8.1783991 , 41.67233406, 31.10777503, 44.29101704, 16.61271177,\n",
       "       46.35580422, 42.66591316, 48.43496308, 49.99851769, 11.5932628 ,\n",
       "       27.81533339, 39.03112407, 25.83615704, 41.20059565, 47.00589843,\n",
       "       42.57598817, 54.09493535, 41.9041516 , 38.75432819, 30.93268746,\n",
       "       49.40364121, 48.82260841, 32.04093784, 38.35354476, 47.99859454,\n",
       "       30.97985978, 48.60415361, 46.40767189, 44.4302572 , 49.70279755,\n",
       "       33.6838431 , 30.17231982, 39.60545889, 41.91110872, 33.76839156,\n",
       "       43.94330878, 12.71657653, 42.20952122, 43.5697536 , 44.14587074,\n",
       "       39.20860928, 44.90964598, 24.28531002, 33.333406  , 31.17379697,\n",
       "       45.28658315, 45.98246495, 17.27421024, 39.98952862, 50.23101419,\n",
       "       30.87233041, 46.90119924, 41.23313309, 47.19537111, 37.61844904,\n",
       "       42.82921641, 45.43378005, 13.20467411, 35.65011695, 51.6627743 ,\n",
       "       48.30701924, 47.82987275, 38.6961845 , 46.45132874, 51.23580543,\n",
       "       38.68080667, 31.8912567 , 36.29548105, 33.72040626, 40.09093029,\n",
       "       43.22577754, 30.2371298 , 36.36778496, 37.26025399, 47.72456434,\n",
       "       12.75324508, 31.99256219, 39.1878145 , 30.50440378, 31.02183878,\n",
       "       37.69564725,  9.96103797, 34.00330451, 44.87236179, 46.74847094,\n",
       "       27.38419178, 15.02612854, 50.18241896, 41.40590762, 32.61975562,\n",
       "       40.41038047, 51.78174553, 54.57445279, 34.13619049, 37.60875499,\n",
       "       30.25336537, 48.38165428, 23.64312834, 45.65686063, 39.3795515 ,\n",
       "       33.05511915, 31.8955034 , 48.03667546, 42.07878161, 40.96234364,\n",
       "       41.27486408, 43.99705019, 24.83125333, 32.37370724, 49.01774654,\n",
       "       42.49809947, 48.81972434,  9.9550289 , 45.51589141, 37.36005411,\n",
       "       47.93690581, 35.7603912 , 39.46321325, 49.86441317, 36.09497924,\n",
       "       39.75803138, 39.54100606, 46.95258217, 27.85911627, 35.73954378,\n",
       "       37.72134299, 42.48354339, 51.83305446, 33.6190865 , 24.64054022,\n",
       "       37.01979572, 42.42330833, 44.17514369, 35.06462361, 46.47915302,\n",
       "       46.35128378, 48.83270196, 42.86119701, 51.94462436, 13.4242806 ,\n",
       "       45.67488045, 21.37048824, 30.66767914, 14.1678245 , 13.31281631,\n",
       "       27.60643256, 43.14497002, 50.17220278, 50.46976785, 45.85429483,\n",
       "       47.45817129, 36.85305307, 39.28818128, 50.17011749, 42.05324663,\n",
       "       41.8146067 , 39.62321003, 46.65031264, 40.40609622, 45.22808013,\n",
       "       54.888086  , 27.50674027, 54.05562462, 38.63103527, 17.43786471,\n",
       "       23.96461845, 35.79953734, 44.29069868, 52.71393573, 36.4198002 ,\n",
       "       42.30377395, 35.94941349, 48.37948541, 42.47441418, 46.2044604 ,\n",
       "       48.0301741 ])"
      ]
     },
     "execution_count": 73,
     "metadata": {},
     "output_type": "execute_result"
    }
   ],
   "source": [
    "pred = reg.predict(X_train)\n",
    "pred"
   ]
  },
  {
   "cell_type": "code",
   "execution_count": 76,
   "id": "bf20ef5e-f864-45f9-bf64-64db2ecd99df",
   "metadata": {},
   "outputs": [
    {
     "name": "stdout",
     "output_type": "stream",
     "text": [
      "R-Squared: 0.5604074935510763\n"
     ]
    }
   ],
   "source": [
    "from sklearn import metrics\n",
    "\n",
    "r2 = metrics.r2_score(y_train, pred)\n",
    "\n",
    "print(f'R-Squared: {r2}')"
   ]
  },
  {
   "cell_type": "code",
   "execution_count": 77,
   "id": "4122d315-7dd8-424f-a3d4-27dd0fcc3032",
   "metadata": {},
   "outputs": [
    {
     "name": "stdout",
     "output_type": "stream",
     "text": [
      "Mean Squared Error: 82.68317541554838\n"
     ]
    }
   ],
   "source": [
    "from sklearn.metrics import mean_squared_error\n",
    "\n",
    "mse = mean_squared_error(y_train, pred)\n",
    "\n",
    "print(f'Mean Squared Error: {mse}')"
   ]
  },
  {
   "cell_type": "markdown",
   "id": "8b85548b-7498-4178-ab7c-9bba4d82a724",
   "metadata": {},
   "source": [
    "## 5. Discussion\n",
    "\n",
    "We analyze the model's accuracy and discuss potential improvements and biases."
   ]
  },
  {
   "cell_type": "markdown",
   "id": "5c5b2b60-3a99-46d4-827d-ac1d20a33d52",
   "metadata": {},
   "source": [
    "### Model Accuracy\r\n",
    "- The Mean Squared Error indicates how close the predictions are to the actual values. Lower values are better.\n",
    "- The R-squared value shows the proportion of the variance in the dependent variable that is predictable from the independent variables. Values closer to 1 indicate a better fit.it.\r\n",
    "\r\n",
    "### Potential Improvements\r\n",
    "\r\n",
    "- Use more advanced regression tec.Lasso).\r\n",
    "- Incomoreditional relevant  features.\r\n",
    "\r\n",
    "### Potential Biases\r\n",
    "\r\n",
    "- The dataset may not be representative of all housing markets.\r\n",
    "- The model may overfit or underfit if not properly validated."
   ]
  },
  {
   "cell_type": "code",
   "execution_count": null,
   "id": "1e346d87-8255-4bd9-94f3-bcfe7805ca92",
   "metadata": {},
   "outputs": [],
   "source": []
  }
 ],
 "metadata": {
  "kernelspec": {
   "display_name": "Python 3 (ipykernel)",
   "language": "python",
   "name": "python3"
  },
  "language_info": {
   "codemirror_mode": {
    "name": "ipython",
    "version": 3
   },
   "file_extension": ".py",
   "mimetype": "text/x-python",
   "name": "python",
   "nbconvert_exporter": "python",
   "pygments_lexer": "ipython3",
   "version": "3.11.7"
  }
 },
 "nbformat": 4,
 "nbformat_minor": 5
}
