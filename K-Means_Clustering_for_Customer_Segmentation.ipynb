{
 "cells": [
  {
   "cell_type": "markdown",
   "id": "e58ee32c-6add-45a1-a020-3350fb1ef278",
   "metadata": {},
   "source": [
    "# K-Means Clustering for Customer Segmentation\n",
    "\n",
    "## Objective\n",
    "Perform K-means clustering to segment customers based on their shopping data.\n",
    "\n",
    "## Steps\n",
    "1. Load dataset.\n",
    "2. Understand Information.\n",
    "3. Data Preprocessing.\n",
    "4. Implement KNN Classifier.\n",
    "5. Determine Optimal Number of Neighbors.\n",
    "6. Plot the Cross-Validation Scores\n",
    "7. Discussion"
   ]
  },
  {
   "cell_type": "markdown",
   "id": "32902282-e57e-4f08-8dd6-5d42c4a91e76",
   "metadata": {},
   "source": [
    "## Setup Environment"
   ]
  },
  {
   "cell_type": "code",
   "execution_count": 5,
   "id": "0a3efbcb-386f-4c04-a3c9-6a9b2849eefe",
   "metadata": {},
   "outputs": [],
   "source": [
    "import pandas as pd\n",
    "import seaborn as sns\n",
    "import matplotlib.pyplot as plt"
   ]
  },
  {
   "cell_type": "markdown",
   "id": "024af46e-5d4b-4fcd-984d-aca0c9dafc2c",
   "metadata": {},
   "source": [
    "## 1. Load Dataset\n",
    "\n",
    "We begin by loading the Customer Segmentation Database.."
   ]
  },
  {
   "cell_type": "code",
   "execution_count": 3,
   "id": "d7f18d7e-f9aa-4785-adb7-d36fef0ca250",
   "metadata": {},
   "outputs": [
    {
     "data": {
      "text/html": [
       "<div>\n",
       "<style scoped>\n",
       "    .dataframe tbody tr th:only-of-type {\n",
       "        vertical-align: middle;\n",
       "    }\n",
       "\n",
       "    .dataframe tbody tr th {\n",
       "        vertical-align: top;\n",
       "    }\n",
       "\n",
       "    .dataframe thead th {\n",
       "        text-align: right;\n",
       "    }\n",
       "</style>\n",
       "<table border=\"1\" class=\"dataframe\">\n",
       "  <thead>\n",
       "    <tr style=\"text-align: right;\">\n",
       "      <th></th>\n",
       "      <th>ID</th>\n",
       "      <th>Gender</th>\n",
       "      <th>Ever_Married</th>\n",
       "      <th>Age</th>\n",
       "      <th>Graduated</th>\n",
       "      <th>Profession</th>\n",
       "      <th>Work_Experience</th>\n",
       "      <th>Spending_Score</th>\n",
       "      <th>Family_Size</th>\n",
       "      <th>Var_1</th>\n",
       "      <th>Segmentation</th>\n",
       "    </tr>\n",
       "  </thead>\n",
       "  <tbody>\n",
       "    <tr>\n",
       "      <th>0</th>\n",
       "      <td>462809</td>\n",
       "      <td>Male</td>\n",
       "      <td>No</td>\n",
       "      <td>22</td>\n",
       "      <td>No</td>\n",
       "      <td>Healthcare</td>\n",
       "      <td>1.0</td>\n",
       "      <td>Low</td>\n",
       "      <td>4.0</td>\n",
       "      <td>Cat_4</td>\n",
       "      <td>D</td>\n",
       "    </tr>\n",
       "    <tr>\n",
       "      <th>1</th>\n",
       "      <td>462643</td>\n",
       "      <td>Female</td>\n",
       "      <td>Yes</td>\n",
       "      <td>38</td>\n",
       "      <td>Yes</td>\n",
       "      <td>Engineer</td>\n",
       "      <td>NaN</td>\n",
       "      <td>Average</td>\n",
       "      <td>3.0</td>\n",
       "      <td>Cat_4</td>\n",
       "      <td>A</td>\n",
       "    </tr>\n",
       "    <tr>\n",
       "      <th>2</th>\n",
       "      <td>466315</td>\n",
       "      <td>Female</td>\n",
       "      <td>Yes</td>\n",
       "      <td>67</td>\n",
       "      <td>Yes</td>\n",
       "      <td>Engineer</td>\n",
       "      <td>1.0</td>\n",
       "      <td>Low</td>\n",
       "      <td>1.0</td>\n",
       "      <td>Cat_6</td>\n",
       "      <td>B</td>\n",
       "    </tr>\n",
       "    <tr>\n",
       "      <th>3</th>\n",
       "      <td>461735</td>\n",
       "      <td>Male</td>\n",
       "      <td>Yes</td>\n",
       "      <td>67</td>\n",
       "      <td>Yes</td>\n",
       "      <td>Lawyer</td>\n",
       "      <td>0.0</td>\n",
       "      <td>High</td>\n",
       "      <td>2.0</td>\n",
       "      <td>Cat_6</td>\n",
       "      <td>B</td>\n",
       "    </tr>\n",
       "    <tr>\n",
       "      <th>4</th>\n",
       "      <td>462669</td>\n",
       "      <td>Female</td>\n",
       "      <td>Yes</td>\n",
       "      <td>40</td>\n",
       "      <td>Yes</td>\n",
       "      <td>Entertainment</td>\n",
       "      <td>NaN</td>\n",
       "      <td>High</td>\n",
       "      <td>6.0</td>\n",
       "      <td>Cat_6</td>\n",
       "      <td>A</td>\n",
       "    </tr>\n",
       "  </tbody>\n",
       "</table>\n",
       "</div>"
      ],
      "text/plain": [
       "       ID  Gender Ever_Married  Age Graduated     Profession  Work_Experience  \\\n",
       "0  462809    Male           No   22        No     Healthcare              1.0   \n",
       "1  462643  Female          Yes   38       Yes       Engineer              NaN   \n",
       "2  466315  Female          Yes   67       Yes       Engineer              1.0   \n",
       "3  461735    Male          Yes   67       Yes         Lawyer              0.0   \n",
       "4  462669  Female          Yes   40       Yes  Entertainment              NaN   \n",
       "\n",
       "  Spending_Score  Family_Size  Var_1 Segmentation  \n",
       "0            Low          4.0  Cat_4            D  \n",
       "1        Average          3.0  Cat_4            A  \n",
       "2            Low          1.0  Cat_6            B  \n",
       "3           High          2.0  Cat_6            B  \n",
       "4           High          6.0  Cat_6            A  "
      ]
     },
     "execution_count": 3,
     "metadata": {},
     "output_type": "execute_result"
    }
   ],
   "source": [
    "csv_file = 'customer_seg_train.csv'\n",
    "\n",
    "data = pd.read_csv(csv_file)\n",
    "data.head()"
   ]
  },
  {
   "cell_type": "markdown",
   "id": "2fc65dbd-8bd5-4a44-9069-20fb67c3fdc3",
   "metadata": {},
   "source": [
    "## 2. Understand Information"
   ]
  },
  {
   "cell_type": "code",
   "execution_count": 4,
   "id": "39519450-3216-4313-824f-27b1f522257e",
   "metadata": {},
   "outputs": [
    {
     "name": "stdout",
     "output_type": "stream",
     "text": [
      "<class 'pandas.core.frame.DataFrame'>\n",
      "RangeIndex: 8068 entries, 0 to 8067\n",
      "Data columns (total 11 columns):\n",
      " #   Column           Non-Null Count  Dtype  \n",
      "---  ------           --------------  -----  \n",
      " 0   ID               8068 non-null   int64  \n",
      " 1   Gender           8068 non-null   object \n",
      " 2   Ever_Married     7928 non-null   object \n",
      " 3   Age              8068 non-null   int64  \n",
      " 4   Graduated        7990 non-null   object \n",
      " 5   Profession       7944 non-null   object \n",
      " 6   Work_Experience  7239 non-null   float64\n",
      " 7   Spending_Score   8068 non-null   object \n",
      " 8   Family_Size      7733 non-null   float64\n",
      " 9   Var_1            7992 non-null   object \n",
      " 10  Segmentation     8068 non-null   object \n",
      "dtypes: float64(2), int64(2), object(7)\n",
      "memory usage: 693.5+ KB\n"
     ]
    }
   ],
   "source": [
    "data.info()"
   ]
  },
  {
   "cell_type": "markdown",
   "id": "91c4f5f6-0b1b-43b9-a1a2-dd7dad265e7d",
   "metadata": {},
   "source": [
    "### Convert Spending Score"
   ]
  },
  {
   "cell_type": "code",
   "execution_count": 8,
   "id": "99f57785-2372-42a8-afc2-305d6f68e669",
   "metadata": {},
   "outputs": [],
   "source": [
    "spending_score = {'Low': 1, 'Average': 2, 'High': 3}\n",
    "data['Spending_Score'] = data['Spending_Score'].map(spending_score)"
   ]
  },
  {
   "cell_type": "markdown",
   "id": "07030d3f-0be1-4121-abe3-ccef09277c09",
   "metadata": {},
   "source": [
    "## 3. Data Preprocessing\n",
    "\n",
    "We will handle any missing values, standardize the numerical features, and prepare the data for clustering."
   ]
  },
  {
   "cell_type": "code",
   "execution_count": 10,
   "id": "a3112f62-db04-457a-9744-a1eed51ca477",
   "metadata": {},
   "outputs": [
    {
     "data": {
      "text/plain": [
       "array([[-1.28462344, -0.50876333, -0.7368331 ,  0.76700122],\n",
       "       [-0.32715082,  0.        ,  0.61241099,  0.09997238],\n",
       "       [ 1.40826831, -0.50876333, -0.7368331 , -1.2340853 ],\n",
       "       ...,\n",
       "       [-0.62636101, -0.50876333, -0.7368331 , -1.2340853 ],\n",
       "       [-0.98541324, -0.50876333, -0.7368331 ,  0.76700122],\n",
       "       [-0.38699286, -0.81867058,  0.61241099,  0.09997238]])"
      ]
     },
     "execution_count": 10,
     "metadata": {},
     "output_type": "execute_result"
    }
   ],
   "source": [
    "from sklearn.preprocessing import StandardScaler\n",
    "\n",
    "data['Work_Experience'].fillna(data['Work_Experience'].mean(), inplace=True)\n",
    "data['Family_Size'].fillna(data['Family_Size'].mean(), inplace=True)\n",
    "\n",
    "features = ['Age', 'Work_Experience', 'Spending_Score', 'Family_Size']\n",
    "X = data[features]\n",
    "\n",
    "scaler = StandardScaler()\n",
    "X_scaled = scaler.fit_transform(X)\n",
    "X_scaled"
   ]
  },
  {
   "cell_type": "markdown",
   "id": "2880e83a-7de4-45fa-a831-89ab6b0098f8",
   "metadata": {},
   "source": [
    "## 3. Apply K-Means Clustering\r\n",
    "Using the K-Means Clustering with Optimal Number of Clusterss."
   ]
  },
  {
   "cell_type": "code",
   "execution_count": 16,
   "id": "71b9eaf2-aa78-4e03-b566-48a143b17de2",
   "metadata": {},
   "outputs": [],
   "source": [
    "from sklearn.cluster import KMeans"
   ]
  },
  {
   "cell_type": "code",
   "execution_count": 41,
   "id": "2e37b3d0-46c8-40f2-b0ff-db4859af8f89",
   "metadata": {},
   "outputs": [],
   "source": [
    "inertia = []\n",
    "K = range(1, 11)\n",
    "for k in K:\n",
    "    kmeans = KMeans(n_clusters = k, random_state = 42, n_init = 10)\n",
    "    kmeans.fit(X_scaled)\n",
    "    inertia.append(kmeans.inertia_)"
   ]
  },
  {
   "cell_type": "markdown",
   "id": "35686e48-77dc-4832-b7ee-f06fb71ef520",
   "metadata": {},
   "source": [
    "## 4. Plot Elbow Method Result"
   ]
  },
  {
   "cell_type": "code",
   "execution_count": 42,
   "id": "1c449349-7985-4cfc-8f91-d154594fb90d",
   "metadata": {},
   "outputs": [
    {
     "data": {
      "image/png": "[encoded data removed]",
      "text/plain": [
       "<Figure size 1000x600 with 1 Axes>"
      ]
     },
     "metadata": {},
     "output_type": "display_data"
    }
   ],
   "source": [
    "plt.figure(figsize=(10, 6))\n",
    "plt.plot(K, inertia, 'bo-')\n",
    "plt.xlabel('Number of clusters')\n",
    "plt.ylabel('Inertia')\n",
    "plt.title('Elbow Method for Optimal Number of Clusters')\n",
    "plt.show()"
   ]
  },
  {
   "cell_type": "code",
   "execution_count": 43,
   "id": "dd1e56e0-4bf5-4961-8b7a-d71623a3ec9a",
   "metadata": {
    "scrolled": true
   },
   "outputs": [
    {
     "data": {
      "text/html": [
       "<style>#sk-container-id-8 {color: black;background-color: white;}#sk-container-id-8 pre{padding: 0;}#sk-container-id-8 div.sk-toggleable {background-color: white;}#sk-container-id-8 label.sk-toggleable__label {cursor: pointer;display: block;width: 100%;margin-bottom: 0;padding: 0.3em;box-sizing: border-box;text-align: center;}#sk-container-id-8 label.sk-toggleable__label-arrow:before {content: \"▸\";float: left;margin-right: 0.25em;color: #696969;}#sk-container-id-8 label.sk-toggleable__label-arrow:hover:before {color: black;}#sk-container-id-8 div.sk-estimator:hover label.sk-toggleable__label-arrow:before {color: black;}#sk-container-id-8 div.sk-toggleable__content {max-height: 0;max-width: 0;overflow: hidden;text-align: left;background-color: #f0f8ff;}#sk-container-id-8 div.sk-toggleable__content pre {margin: 0.2em;color: black;border-radius: 0.25em;background-color: #f0f8ff;}#sk-container-id-8 input.sk-toggleable__control:checked~div.sk-toggleable__content {max-height: 200px;max-width: 100%;overflow: auto;}#sk-container-id-8 input.sk-toggleable__control:checked~label.sk-toggleable__label-arrow:before {content: \"▾\";}#sk-container-id-8 div.sk-estimator input.sk-toggleable__control:checked~label.sk-toggleable__label {background-color: #d4ebff;}#sk-container-id-8 div.sk-label input.sk-toggleable__control:checked~label.sk-toggleable__label {background-color: #d4ebff;}#sk-container-id-8 input.sk-hidden--visually {border: 0;clip: rect(1px 1px 1px 1px);clip: rect(1px, 1px, 1px, 1px);height: 1px;margin: -1px;overflow: hidden;padding: 0;position: absolute;width: 1px;}#sk-container-id-8 div.sk-estimator {font-family: monospace;background-color: #f0f8ff;border: 1px dotted black;border-radius: 0.25em;box-sizing: border-box;margin-bottom: 0.5em;}#sk-container-id-8 div.sk-estimator:hover {background-color: #d4ebff;}#sk-container-id-8 div.sk-parallel-item::after {content: \"\";width: 100%;border-bottom: 1px solid gray;flex-grow: 1;}#sk-container-id-8 div.sk-label:hover label.sk-toggleable__label {background-color: #d4ebff;}#sk-container-id-8 div.sk-serial::before {content: \"\";position: absolute;border-left: 1px solid gray;box-sizing: border-box;top: 0;bottom: 0;left: 50%;z-index: 0;}#sk-container-id-8 div.sk-serial {display: flex;flex-direction: column;align-items: center;background-color: white;padding-right: 0.2em;padding-left: 0.2em;position: relative;}#sk-container-id-8 div.sk-item {position: relative;z-index: 1;}#sk-container-id-8 div.sk-parallel {display: flex;align-items: stretch;justify-content: center;background-color: white;position: relative;}#sk-container-id-8 div.sk-item::before, #sk-container-id-8 div.sk-parallel-item::before {content: \"\";position: absolute;border-left: 1px solid gray;box-sizing: border-box;top: 0;bottom: 0;left: 50%;z-index: -1;}#sk-container-id-8 div.sk-parallel-item {display: flex;flex-direction: column;z-index: 1;position: relative;background-color: white;}#sk-container-id-8 div.sk-parallel-item:first-child::after {align-self: flex-end;width: 50%;}#sk-container-id-8 div.sk-parallel-item:last-child::after {align-self: flex-start;width: 50%;}#sk-container-id-8 div.sk-parallel-item:only-child::after {width: 0;}#sk-container-id-8 div.sk-dashed-wrapped {border: 1px dashed gray;margin: 0 0.4em 0.5em 0.4em;box-sizing: border-box;padding-bottom: 0.4em;background-color: white;}#sk-container-id-8 div.sk-label label {font-family: monospace;font-weight: bold;display: inline-block;line-height: 1.2em;}#sk-container-id-8 div.sk-label-container {text-align: center;}#sk-container-id-8 div.sk-container {/* jupyter's `normalize.less` sets `[hidden] { display: none; }` but bootstrap.min.css set `[hidden] { display: none !important; }` so we also need the `!important` here to be able to override the default hidden behavior on the sphinx rendered scikit-learn.org. See: https://github.com/scikit-learn/scikit-learn/issues/21755 */display: inline-block !important;position: relative;}#sk-container-id-8 div.sk-text-repr-fallback {display: none;}</style><div id=\"sk-container-id-8\" class=\"sk-top-container\"><div class=\"sk-text-repr-fallback\"><pre>KMeans(n_clusters=10, n_init=10, random_state=42)</pre><b>In a Jupyter environment, please rerun this cell to show the HTML representation or trust the notebook. <br />On GitHub, the HTML representation is unable to render, please try loading this page with nbviewer.org.</b></div><div class=\"sk-container\" hidden><div class=\"sk-item\"><div class=\"sk-estimator sk-toggleable\"><input class=\"sk-toggleable__control sk-hidden--visually\" id=\"sk-estimator-id-8\" type=\"checkbox\" checked><label for=\"sk-estimator-id-8\" class=\"sk-toggleable__label sk-toggleable__label-arrow\">KMeans</label><div class=\"sk-toggleable__content\"><pre>KMeans(n_clusters=10, n_init=10, random_state=42)</pre></div></div></div></div></div>"
      ],
      "text/plain": [
       "KMeans(n_clusters=10, n_init=10, random_state=42)"
      ]
     },
     "execution_count": 43,
     "metadata": {},
     "output_type": "execute_result"
    }
   ],
   "source": [
    "kmeans = KMeans(n_clusters = k, random_state = 42, n_init = 10)\n",
    "data['Cluster'] = kmeans.fit_predict(X_scaled)\n",
    "kmeans"
   ]
  },
  {
   "cell_type": "markdown",
   "id": "e2451c36-7a6b-417e-9284-cf7fb8c29a0b",
   "metadata": {},
   "source": [
    "### Prediction"
   ]
  },
  {
   "cell_type": "code",
   "execution_count": 44,
   "id": "86ef7152-dd07-4738-9faa-615179a9558b",
   "metadata": {},
   "outputs": [
    {
     "name": "stderr",
     "output_type": "stream",
     "text": [
      "C:\\Users\\Sabusiswa\\anaconda3\\Lib\\site-packages\\sklearn\\base.py:432: UserWarning: X has feature names, but KMeans was fitted without feature names\n",
      "  warnings.warn(\n"
     ]
    },
    {
     "data": {
      "text/plain": [
       "array([7, 7, 7, ..., 7, 7, 7])"
      ]
     },
     "execution_count": 44,
     "metadata": {},
     "output_type": "execute_result"
    }
   ],
   "source": [
    "pred = kmeans.predict(X)\n",
    "pred"
   ]
  },
  {
   "cell_type": "code",
   "execution_count": 47,
   "id": "cfe4c470-72f8-4961-bca9-d63226fe33f6",
   "metadata": {},
   "outputs": [
    {
     "name": "stdout",
     "output_type": "stream",
     "text": [
      "Cluster Centers:\n",
      "[[ 0.05440611 -0.37141875  1.96165509  0.50482411]\n",
      " [-0.50744794  1.82091604 -0.7368331  -0.37451188]\n",
      " [-0.15623243 -0.42392428 -0.7368331  -0.87954178]\n",
      " [ 0.38288193 -0.44089218  0.51827768  1.15584284]\n",
      " [ 1.59888336 -0.44674487 -0.7368331  -0.85224191]\n",
      " [-0.94733195 -0.20003452 -0.6789753   2.05300537]\n",
      " [-0.05763497  1.7415859   1.01360668  0.02070032]\n",
      " [ 1.79165192 -0.48503796  1.80279589 -0.41071599]\n",
      " [ 0.1465195  -0.44662079  0.62097762 -0.30832492]\n",
      " [-0.95009738 -0.4676401  -0.72661156  0.3214636 ]]\n"
     ]
    }
   ],
   "source": [
    "print(f'Cluster Centers:\\n{kmeans.cluster_centers_}')"
   ]
  },
  {
   "cell_type": "code",
   "execution_count": 52,
   "id": "40c97ede-9266-4fac-a3c0-989be342cd71",
   "metadata": {},
   "outputs": [
    {
     "name": "stdout",
     "output_type": "stream",
     "text": [
      "                    ID        Age  Work_Experience  Spending_Score  \\\n",
      "Cluster                                                              \n",
      "0        463387.500000  44.376068         1.443180        3.000000   \n",
      "1        463380.077304  34.987116         8.517344        1.000000   \n",
      "2        463434.380625  40.813883         1.272921        1.000000   \n",
      "3        463768.151703  49.890093         1.217118        1.928793   \n",
      "4        463405.083200  70.192000         1.202040        1.000000   \n",
      "5        463317.433962  27.636364         1.996197        1.042882   \n",
      "6        463591.854167  42.503788         8.261364        2.297348   \n",
      "7        463384.306122  73.406593         1.076556        2.882261   \n",
      "8        463485.673016  45.915344         1.200520        2.006349   \n",
      "9        463593.656535  27.591945         1.133099        1.007599   \n",
      "\n",
      "         Family_Size  \n",
      "Cluster               \n",
      "0           3.606948  \n",
      "1           2.288660  \n",
      "2           1.532956  \n",
      "3           4.582043  \n",
      "4           1.568570  \n",
      "5           5.927959  \n",
      "6           2.881156  \n",
      "7           2.234383  \n",
      "8           2.387887  \n",
      "9           3.336105  \n"
     ]
    }
   ],
   "source": [
    "numeric_cols = data.select_dtypes(include=['float64', 'int64']).columns\n",
    "cluster_analysis = data.groupby('Cluster')[numeric_cols].mean()\n",
    "print(cluster_analysis)"
   ]
  },
  {
   "cell_type": "markdown",
   "id": "8b85548b-7498-4178-ab7c-9bba4d82a724",
   "metadata": {},
   "source": [
    "## 5. Discussion\n",
    "\n",
    "We analyze the model's accuracy and discuss findings and insights."
   ]
  },
  {
   "cell_type": "markdown",
   "id": "5c5b2b60-3a99-46d4-827d-ac1d20a33d52",
   "metadata": {},
   "source": [
    "### Summary of Findings\r\n",
    "The K-Means clustering algorithm was successfully applied to segment customers based on their age, work experience, spending score, and family size. After preprocessing the data and determining the optimal number of clusters using the Elbow method, four distinct customer segments were identified.\r\n",
    "\r\n",
    "### Cluster Characteristics\r\n",
    "The cluster analysis revealed the following characteristics for each segment:\r\n",
    "\r\n",
    "1. **Cluster 0**:\r\n",
    "   - Age: Moderate\r\n",
    "   - Work Experience: Low\r\n",
    "   - Spending Score: Low to Average\r\n",
    "   - Family Size: Moderate\r\n",
    "\r\n",
    "2. **Cluster 1**:\r\n",
    "   - Age: High\r\n",
    "   - Work Experience: High\r\n",
    "   - Spending Score: High\r\n",
    "   - Family Size: Moderate to Large\r\n",
    "\r\n",
    "3. **Cluster 2**:\r\n",
    "   - Age: Low\r\n",
    "   - Work Experience: Minimal\r\n",
    "   - Spending Score: Low\r\n",
    "   - Family Size: Small\r\n",
    "\r\n",
    "4. **Cluster 3**:\r\n",
    "   - Age: Average\r\n",
    "   - Work Experience: Varied\r\n",
    "   - Spending Score: Average\r\n",
    "   - Family Size: Large\r\n",
    "\r\n",
    "### Insights and Marketing Strategies\r\n",
    "Based on the cluster characteristics, we can derive the following insights and targeted marketing strategies:\r\n",
    "\r\n",
    "- **Cluster 0**:\r\n",
    "  - **Insight**: These customers are middle-aged with moderate spending power and low work experience.\r\n",
    "  - **Strategy**: Target marketing campaigns with mid-range products and services that cater to middle-aged individuals with limited work experience. Consider promoting financial planning and career development services.\r\n",
    "\r\n",
    "- **Cluster 1**:\r\n",
    "  - **Insight**: High spending power, significant work experience, and older age make this cluster particularly valuable.\r\n",
    "  - **Strategy**: Focus on premium products and services. Consider loyalty programs and exclusive offers to retain these high-value customers. Promote products related to retirement planning and luxury items.\r\n",
    "\r\n",
    "- **Cluster 2**:\r\n",
    "  - **Insight**: Young customers with low spending power and minimal work experience.\r\n",
    "  - **Strategy**: Introduce budget-friendly products and services. Engage these customers with educational content about career growth and financial literacy. Offer discounts and introductory offers to attract them.\r\n",
    "\r\n",
    "- **Cluster 3**:\r\n",
    "  - **Insight**: Customers in this cluster have varied work experience, an average age, and larger family sizes.\r\n",
    "  - **Strategy**: Provide a mix of products and services that cater to both individual and family needs. Consider family-oriented promotions and products that appeal to larger households.\r\n",
    "\r\n",
    "### Conclusion\r\n",
    "The K-Means clustering analysis provided valuable insights into customer segmentation, allowing for the development of targeted marketing strategies that cater to the specific needs and characteristics of each customer segment. By leveraging these insights, businesses can enhance customer satisfaction, improve retention rates, and increase overall profitability.\r\n",
    "\r\n",
    "Future work could involve incorporating additional features such as income levels, geographic location, and purchasing behavior to further refine the customer segments.and develop even more tailored marketing strategies.ted. validated."
   ]
  },
  {
   "cell_type": "code",
   "execution_count": null,
   "id": "1e346d87-8255-4bd9-94f3-bcfe7805ca92",
   "metadata": {},
   "outputs": [],
   "source": []
  }
 ],
 "metadata": {
  "kernelspec": {
   "display_name": "Python 3 (ipykernel)",
   "language": "python",
   "name": "python3"
  },
  "language_info": {
   "codemirror_mode": {
    "name": "ipython",
    "version": 3
   },
   "file_extension": ".py",
   "mimetype": "text/x-python",
   "name": "python",
   "nbconvert_exporter": "python",
   "pygments_lexer": "ipython3",
   "version": "3.11.7"
  }
 },
 "nbformat": 4,
 "nbformat_minor": 5
}
